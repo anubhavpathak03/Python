{
 "cells": [
  {
   "cell_type": "code",
   "execution_count": 79,
   "id": "0a34ad43-e562-42e0-ad47-9cec045bcb53",
   "metadata": {},
   "outputs": [],
   "source": [
    "import numpy as np"
   ]
  },
  {
   "cell_type": "code",
   "execution_count": 80,
   "id": "e9fea019-41a7-42ed-96ca-a4f94734383b",
   "metadata": {},
   "outputs": [],
   "source": [
    "a = np.array([1,2,3])"
   ]
  },
  {
   "cell_type": "code",
   "execution_count": 81,
   "id": "a30a57d0-2d58-4ac0-80bd-2e25afde5fcd",
   "metadata": {},
   "outputs": [
    {
     "name": "stdout",
     "output_type": "stream",
     "text": [
      "[1 2 3]\n"
     ]
    }
   ],
   "source": [
    "print(a)"
   ]
  },
  {
   "cell_type": "code",
   "execution_count": 82,
   "id": "7766a594-f127-4dd9-9b1f-6664ae7f7431",
   "metadata": {},
   "outputs": [
    {
     "name": "stdout",
     "output_type": "stream",
     "text": [
      "[[1. 2. 3.]\n",
      " [4. 5. 6.]]\n"
     ]
    }
   ],
   "source": [
    "b = np.array([[1.0,2.0,3.0],[4.0,5.0,6.0]])\n",
    "print(b)"
   ]
  },
  {
   "cell_type": "code",
   "execution_count": 83,
   "id": "9550bf15-2a51-40ff-a13d-fd7df89b79b5",
   "metadata": {},
   "outputs": [
    {
     "data": {
      "text/plain": [
       "1"
      ]
     },
     "execution_count": 83,
     "metadata": {},
     "output_type": "execute_result"
    }
   ],
   "source": [
    "# geting dimension (ndim) called number dimension\n",
    "a.ndim"
   ]
  },
  {
   "cell_type": "code",
   "execution_count": 84,
   "id": "45008ad9-458b-4c6e-a38e-16ac73302e52",
   "metadata": {},
   "outputs": [
    {
     "data": {
      "text/plain": [
       "2"
      ]
     },
     "execution_count": 84,
     "metadata": {},
     "output_type": "execute_result"
    }
   ],
   "source": [
    "b.ndim"
   ]
  },
  {
   "cell_type": "code",
   "execution_count": 85,
   "id": "4ba58f14-ada1-45d8-a1bd-4ffc55e2d1c1",
   "metadata": {},
   "outputs": [],
   "source": [
    "#get shape"
   ]
  },
  {
   "cell_type": "code",
   "execution_count": 86,
   "id": "bbce9955-58d7-4da8-8e51-331f06bbbe98",
   "metadata": {},
   "outputs": [
    {
     "data": {
      "text/plain": [
       "(3,)"
      ]
     },
     "execution_count": 86,
     "metadata": {},
     "output_type": "execute_result"
    }
   ],
   "source": [
    "a.shape"
   ]
  },
  {
   "cell_type": "code",
   "execution_count": 87,
   "id": "843d6ecf-2abf-45d7-9726-799f4c3e50ba",
   "metadata": {},
   "outputs": [
    {
     "data": {
      "text/plain": [
       "(2, 3)"
      ]
     },
     "execution_count": 87,
     "metadata": {},
     "output_type": "execute_result"
    }
   ],
   "source": [
    "b.shape"
   ]
  },
  {
   "cell_type": "code",
   "execution_count": 88,
   "id": "012e7b57-e135-4dd4-901a-4e6d8f9bbb9d",
   "metadata": {},
   "outputs": [
    {
     "name": "stdout",
     "output_type": "stream",
     "text": [
      "[[1. 1. 1. 1. 1.]\n",
      " [1. 1. 1. 1. 1.]\n",
      " [1. 1. 1. 1. 1.]\n",
      " [1. 1. 1. 1. 1.]\n",
      " [1. 1. 1. 1. 1.]]\n",
      "[[0. 0. 0.]\n",
      " [0. 9. 0.]\n",
      " [0. 0. 0.]]\n",
      "[[1. 1. 1. 1. 1.]\n",
      " [1. 0. 0. 0. 1.]\n",
      " [1. 0. 9. 0. 1.]\n",
      " [1. 0. 0. 0. 1.]\n",
      " [1. 1. 1. 1. 1.]]\n"
     ]
    }
   ],
   "source": [
    "# Question-1\n",
    "output = np.ones((5,5))\n",
    "print(output)\n",
    "\n",
    "z = np.zeros((3, 3))\n",
    "z[1, 1] = 9\n",
    "\n",
    "print(z)\n",
    "\n",
    "output[1:-1, 1:-1] = z\n",
    "print(output)"
   ]
  },
  {
   "cell_type": "markdown",
   "id": "61ecf3e4-b20a-496d-ad58-95c3c18aae7c",
   "metadata": {},
   "source": [
    "### Be careful while copying array"
   ]
  },
  {
   "cell_type": "code",
   "execution_count": 89,
   "id": "944c5422-c54b-4d0c-ba66-e43451f5fe78",
   "metadata": {},
   "outputs": [
    {
     "name": "stdout",
     "output_type": "stream",
     "text": [
      "b->  [-999    2    3]\n",
      "a->  [-999    2    3]\n",
      "c->  [-888    2    3]\n",
      "a->  [-999    2    3]\n"
     ]
    }
   ],
   "source": [
    "a = np.array([1, 2, 3])\n",
    "b = a\n",
    "b[0] = -999\n",
    "print(\"b-> \", b)\n",
    "print(\"a-> \", a)\n",
    "# actual array 'a' also changing while copying and modification\n",
    "\n",
    "c = a.copy()\n",
    "c[0] = -888\n",
    "print(\"c-> \", c)\n",
    "print(\"a-> \", a)\n"
   ]
  },
  {
   "cell_type": "markdown",
   "id": "e3e2de1a-80f2-48aa-b257-f7628cc4548a",
   "metadata": {},
   "source": [
    "### Linear Algebra"
   ]
  },
  {
   "cell_type": "code",
   "execution_count": 90,
   "id": "27c339ea-912f-4036-a5b9-2d4d25aa02e7",
   "metadata": {},
   "outputs": [
    {
     "name": "stdout",
     "output_type": "stream",
     "text": [
      "a =  [[1. 1. 1.]\n",
      " [1. 1. 1.]]\n",
      "b =  [[2 2]\n",
      " [2 2]\n",
      " [2 2]]\n",
      "z =  [[6. 6.]\n",
      " [6. 6.]]\n"
     ]
    }
   ],
   "source": [
    "# M(a*b) X N(b*c) => while matrix multiplication (no.of cols of M = no.of rows of N) \n",
    "\n",
    "a = np.ones((2, 3))\n",
    "print(\"a = \", a);\n",
    "\n",
    "b = np.full((3,2), 2)\n",
    "print(\"b = \", b);\n",
    "\n",
    "z = np.matmul(a, b);\n",
    "print(\"z = \", z);"
   ]
  },
  {
   "cell_type": "code",
   "execution_count": 91,
   "id": "c7ae8a76-a1c0-4f7d-80a4-223a125b2484",
   "metadata": {},
   "outputs": [
    {
     "data": {
      "text/plain": [
       "1.0"
      ]
     },
     "execution_count": 91,
     "metadata": {},
     "output_type": "execute_result"
    }
   ],
   "source": [
    "# finding the determinant\n",
    "# ---> determinant of identity matrix is 1\n",
    "c = np.identity(3)\n",
    "np.linalg.det(c)"
   ]
  },
  {
   "cell_type": "markdown",
   "id": "66a7fea6-ad08-4b73-87b9-1e05ad2560d0",
   "metadata": {},
   "source": [
    "### Statistics with NumPy"
   ]
  },
  {
   "cell_type": "code",
   "execution_count": 92,
   "id": "e13f2588-5e54-40d0-929f-b28545093565",
   "metadata": {},
   "outputs": [
    {
     "data": {
      "text/plain": [
       "array([[1, 2, 3],\n",
       "       [4, 5, 6]])"
      ]
     },
     "execution_count": 92,
     "metadata": {},
     "output_type": "execute_result"
    }
   ],
   "source": [
    "stats = np.array([[1,2,3],[4,5,6]])\n",
    "stats"
   ]
  },
  {
   "cell_type": "code",
   "execution_count": 93,
   "id": "4b23035d-5aa6-43a8-9b36-aea6562cc064",
   "metadata": {},
   "outputs": [
    {
     "data": {
      "text/plain": [
       "1"
      ]
     },
     "execution_count": 93,
     "metadata": {},
     "output_type": "execute_result"
    }
   ],
   "source": [
    "np.min(stats)"
   ]
  },
  {
   "cell_type": "code",
   "execution_count": 94,
   "id": "5da10b43-7d25-4d30-804a-2c3e4a8458ce",
   "metadata": {},
   "outputs": [
    {
     "data": {
      "text/plain": [
       "6"
      ]
     },
     "execution_count": 94,
     "metadata": {},
     "output_type": "execute_result"
    }
   ],
   "source": [
    "np.max(stats)"
   ]
  },
  {
   "cell_type": "code",
   "execution_count": 95,
   "id": "9146d817-18ee-449b-bb52-611b3e6a923b",
   "metadata": {},
   "outputs": [
    {
     "data": {
      "text/plain": [
       "21"
      ]
     },
     "execution_count": 95,
     "metadata": {},
     "output_type": "execute_result"
    }
   ],
   "source": [
    "np.sum(stats)"
   ]
  },
  {
   "cell_type": "code",
   "execution_count": 96,
   "id": "c4ac79eb-a6ab-4d4a-ae7b-a596128d608d",
   "metadata": {},
   "outputs": [
    {
     "data": {
      "text/plain": [
       "array([5, 7, 9])"
      ]
     },
     "execution_count": 96,
     "metadata": {},
     "output_type": "execute_result"
    }
   ],
   "source": [
    "np.sum(stats, axis = 0)"
   ]
  },
  {
   "cell_type": "markdown",
   "id": "2142300f-5e65-40ea-b756-e05b8a68579b",
   "metadata": {},
   "source": [
    "### Reorganizing Arrays"
   ]
  },
  {
   "cell_type": "code",
   "execution_count": 97,
   "id": "fe41d40b-4aad-45e6-a688-d71411d4de98",
   "metadata": {},
   "outputs": [
    {
     "name": "stdout",
     "output_type": "stream",
     "text": [
      "[[1 2 3]\n",
      " [4 5 6]]\n",
      "[[1 2]\n",
      " [3 4]\n",
      " [5 6]]\n"
     ]
    }
   ],
   "source": [
    "before = np.array([[1,2,3],[4,5,6]])\n",
    "print(before)\n",
    "\n",
    "after = before.reshape((3,2))\n",
    "print(after)"
   ]
  },
  {
   "cell_type": "code",
   "execution_count": 98,
   "id": "7dd022ef-b2a4-4dc7-a2a4-4faab5c6136b",
   "metadata": {},
   "outputs": [
    {
     "data": {
      "text/plain": [
       "array([[ 1,  2,  3,  4,  5],\n",
       "       [ 6,  7,  8,  9, 10],\n",
       "       [ 1,  2,  3,  4,  5],\n",
       "       [ 6,  7,  8,  9, 10]])"
      ]
     },
     "execution_count": 98,
     "metadata": {},
     "output_type": "execute_result"
    }
   ],
   "source": [
    "# vertical stack\n",
    "v1 = np.array([1,2,3,4,5])\n",
    "v2 = np.array([6,7,8,9,10])\n",
    "np.vstack([v1,v2,v1,v2])"
   ]
  },
  {
   "cell_type": "code",
   "execution_count": 99,
   "id": "52f45765-813c-4c16-95e3-9b95dbbd5c9c",
   "metadata": {},
   "outputs": [
    {
     "name": "stdout",
     "output_type": "stream",
     "text": [
      "[[1. 1. 1. 1.]\n",
      " [1. 1. 1. 1.]]\n",
      "[[0. 0.]\n",
      " [0. 0.]]\n"
     ]
    },
    {
     "data": {
      "text/plain": [
       "array([[1., 1., 1., 1., 0., 0.],\n",
       "       [1., 1., 1., 1., 0., 0.]])"
      ]
     },
     "execution_count": 99,
     "metadata": {},
     "output_type": "execute_result"
    }
   ],
   "source": [
    "# Horizontal stack\n",
    "h1 = np.ones((2,4))\n",
    "print(h1)\n",
    "h2 = np.zeros((2,2))\n",
    "print(h2)\n",
    "np.hstack((h1, h2))"
   ]
  },
  {
   "cell_type": "markdown",
   "id": "a576ee0d-e27e-42c9-a218-c501afc059ca",
   "metadata": {},
   "source": [
    "# Loading Data From Files"
   ]
  },
  {
   "cell_type": "code",
   "execution_count": 108,
   "id": "c60be792-e313-4a2f-a96e-707bcd69b8a6",
   "metadata": {},
   "outputs": [
    {
     "name": "stdout",
     "output_type": "stream",
     "text": [
      "[[  1.  13.  21.  45.  46. 100.  98.  45.  99.   0.  -1.   0.   3.   5.\n",
      "    8.   9.   3.   2.   1.]\n",
      " [100.  99.  88.  20.  30.  45.   3.  47.   9.   0.  -1.   9.   2.   4.\n",
      "   30.   7.   1.   3.   0.]]\n"
     ]
    }
   ],
   "source": [
    "with open('data.txt') as f:\n",
    "    lines = f.readlines()\n",
    "\n",
    "# Remove line 3 (index 2 since it's 0-based)\n",
    "lines.pop(2)\n",
    "\n",
    "with open('cleaned_data.txt', 'w') as f:\n",
    "    f.writelines(lines)\n",
    "\n",
    "# Now load the cleaned file\n",
    "data = np.genfromtxt('cleaned_data.txt', delimiter=',')\n",
    "print(data)"
   ]
  },
  {
   "cell_type": "code",
   "execution_count": 117,
   "id": "a5c44820-37e7-423c-a6b4-c710fa413500",
   "metadata": {},
   "outputs": [
    {
     "name": "stdout",
     "output_type": "stream",
     "text": [
      "[[  1  13  21  45  46 100  98  45  99   0  -1   0   3   5   8   9   3   2\n",
      "    1]\n",
      " [100  99  88  20  30  45   3  47   9   0  -1   9   2   4  30   7   1   3\n",
      "    0]]\n"
     ]
    },
    {
     "name": "stderr",
     "output_type": "stream",
     "text": [
      "C:\\Users\\hp\\AppData\\Local\\Temp\\ipykernel_25532\\2859405203.py:1: ConversionWarning: Some errors were detected !\n",
      "    Line #3 (got 21 columns instead of 19)\n",
      "  filedata = np.genfromtxt('data.txt', delimiter=',', invalid_raise=False)\n"
     ]
    }
   ],
   "source": [
    "filedata = np.genfromtxt('data.txt', delimiter=',', invalid_raise=False)\n",
    "filedata = filedata.astype('int32')\n",
    "print(filedata)"
   ]
  },
  {
   "cell_type": "markdown",
   "id": "330bc906-0b77-496d-b505-27d295f295da",
   "metadata": {},
   "source": [
    "#### Boolean Masking and Advance Indexing\n"
   ]
  },
  {
   "cell_type": "code",
   "execution_count": 118,
   "id": "d983b07d-71ff-4a27-b17f-6e6be72c36c4",
   "metadata": {},
   "outputs": [
    {
     "data": {
      "text/plain": [
       "array([[False, False, False, False, False,  True,  True, False,  True,\n",
       "        False, False, False, False, False, False, False, False, False,\n",
       "        False],\n",
       "       [ True,  True,  True, False, False, False, False, False, False,\n",
       "        False, False, False, False, False, False, False, False, False,\n",
       "        False]])"
      ]
     },
     "execution_count": 118,
     "metadata": {},
     "output_type": "execute_result"
    }
   ],
   "source": [
    "filedata > 50"
   ]
  },
  {
   "cell_type": "code",
   "execution_count": 119,
   "id": "6e5e39ed-b6a5-4799-9dd2-67cfaf670d4f",
   "metadata": {},
   "outputs": [
    {
     "data": {
      "text/plain": [
       "array([100,  98,  99, 100,  99,  88])"
      ]
     },
     "execution_count": 119,
     "metadata": {},
     "output_type": "execute_result"
    }
   ],
   "source": [
    "filedata[filedata > 50]"
   ]
  },
  {
   "cell_type": "code",
   "execution_count": 122,
   "id": "8312e0e5-da9a-4e5a-912c-6a3dd1665695",
   "metadata": {},
   "outputs": [
    {
     "data": {
      "text/plain": [
       "array([3, 5, 7])"
      ]
     },
     "execution_count": 122,
     "metadata": {},
     "output_type": "execute_result"
    }
   ],
   "source": [
    "#you can index with a list in NumPy\n",
    "a = np.array([1,2,3,4,5,6,7,8,9])\n",
    "a[[2,4,6]]"
   ]
  },
  {
   "cell_type": "code",
   "execution_count": null,
   "id": "81b86c04-c010-4737-9ff8-376ded26e90e",
   "metadata": {},
   "outputs": [],
   "source": []
  },
  {
   "cell_type": "code",
   "execution_count": null,
   "id": "8c51fb24-67ff-444e-8b50-35bdf9b89220",
   "metadata": {},
   "outputs": [],
   "source": []
  }
 ],
 "metadata": {
  "kernelspec": {
   "display_name": "Python 3 (ipykernel)",
   "language": "python",
   "name": "python3"
  },
  "language_info": {
   "codemirror_mode": {
    "name": "ipython",
    "version": 3
   },
   "file_extension": ".py",
   "mimetype": "text/x-python",
   "name": "python",
   "nbconvert_exporter": "python",
   "pygments_lexer": "ipython3",
   "version": "3.12.7"
  }
 },
 "nbformat": 4,
 "nbformat_minor": 5
}
